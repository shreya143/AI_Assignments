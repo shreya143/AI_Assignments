{
  "nbformat": 4,
  "nbformat_minor": 0,
  "metadata": {
    "colab": {
      "name": "Untitled0.ipynb",
      "version": "0.3.2",
      "provenance": []
    },
    "kernelspec": {
      "name": "python3",
      "display_name": "Python 3"
    },
    "accelerator": "GPU"
  },
  "cells": [
    {
      "cell_type": "code",
      "metadata": {
        "id": "W-3xIM8vpkXh",
        "colab_type": "code",
        "colab": {
          "base_uri": "https://localhost:8080/",
          "height": 34
        },
        "outputId": "ecb124c2-8dd4-4ad6-f977-9b176e04f79c"
      },
      "source": [
        "import tensorflow as tf\n",
        "import matplotlib.pyplot as plt\n",
        "%matplotlib inline\n",
        "from tqdm import tqdm\n",
        "import numpy as np\n",
        "import os\n",
        "from random import shuffle\n",
        "import cv2\n",
        "from google.colab import drive\n",
        "drive.mount(\"/content/drive\")\n",
        "\n"
      ],
      "execution_count": 8,
      "outputs": [
        {
          "output_type": "stream",
          "text": [
            "Drive already mounted at /content/drive; to attempt to forcibly remount, call drive.mount(\"/content/drive\", force_remount=True).\n"
          ],
          "name": "stdout"
        }
      ]
    },
    {
      "cell_type": "code",
      "metadata": {
        "id": "-1M8i5pEJkH3",
        "colab_type": "code",
        "colab": {}
      },
      "source": [
        "train_file=\"/content/drive/My Drive/Colab Notebooks/train.zip\"\n",
        "test_file=\"/content/drive/My Drive/Colab Notebooks/test.zip\"\n"
      ],
      "execution_count": 0,
      "outputs": []
    },
    {
      "cell_type": "code",
      "metadata": {
        "id": "v8KP59GPJUxR",
        "colab_type": "code",
        "colab": {}
      },
      "source": [
        "import zipfile\n",
        "with zipfile.ZipFile(train_file,'r') as z:\n",
        "  z.extractall()\n",
        "with zipfile.ZipFile(test_file,'r') as z:\n",
        "  z.extractall()"
      ],
      "execution_count": 0,
      "outputs": []
    },
    {
      "cell_type": "code",
      "metadata": {
        "id": "EZsszCGVJsgq",
        "colab_type": "code",
        "colab": {
          "base_uri": "https://localhost:8080/",
          "height": 34
        },
        "outputId": "be9f0dd1-bf2f-48c6-d381-278894758092"
      },
      "source": [
        "ls"
      ],
      "execution_count": 11,
      "outputs": [
        {
          "output_type": "stream",
          "text": [
            "\u001b[0m\u001b[01;34mdrive\u001b[0m/  \u001b[01;34msample_data\u001b[0m/  \u001b[01;34mtest\u001b[0m/  \u001b[01;34mtrain\u001b[0m/\n"
          ],
          "name": "stdout"
        }
      ]
    },
    {
      "cell_type": "code",
      "metadata": {
        "colab_type": "code",
        "id": "4lCqPobcseNR",
        "colab": {}
      },
      "source": [
        "TEST_DIR=\"./test/\"\n",
        "TRAIN_DIR=\"./train/\"\n",
        "LEARNING_RATE=1e-3\n",
        "MODEL_NAME=\"dogsvscats-{}-{}.model\".format(LEARNING_RATE,\"6conv-fire\")\n",
        "IMG_SIZE=50"
      ],
      "execution_count": 0,
      "outputs": []
    },
    {
      "cell_type": "code",
      "metadata": {
        "id": "CmtfkK5fqWcr",
        "colab_type": "code",
        "colab": {}
      },
      "source": [
        "def label_image(img):\n",
        "    img_name=img.split(\".\")[-3]\n",
        "    if img_name==\"cat\":\n",
        "       return[1,0]\n",
        "    elif img_name==\"dog\":\n",
        "       return[0,1]"
      ],
      "execution_count": 0,
      "outputs": []
    },
    {
      "cell_type": "code",
      "metadata": {
        "id": "JQh_Z2X5Mu6u",
        "colab_type": "code",
        "colab": {}
      },
      "source": [
        "def create_train_data():\n",
        "    training_data=[]\n",
        "    for img in tqdm(os.listdir(TRAIN_DIR)):\n",
        "        label=label_image(img)\n",
        "        path=os.path.join(TRAIN_DIR,img)\n",
        "        img=cv2.imread(path,cv2.IMREAD_GRAYSCALE)\n",
        "        img=cv2.resize(img,(IMG_SIZE,IMG_SIZE))\n",
        "        training_data.append([np.array(img),np.array(label)])\n",
        "    shuffle(training_data)\n",
        "    np.save('train_data.npy',training_data)\n",
        "    return training_data\n",
        " \n",
        "    "
      ],
      "execution_count": 0,
      "outputs": []
    },
    {
      "cell_type": "code",
      "metadata": {
        "id": "SNJPGDY5N0WN",
        "colab_type": "code",
        "colab": {
          "base_uri": "https://localhost:8080/",
          "height": 34
        },
        "outputId": "e03fe812-89eb-4731-c279-be0787d7cf8e"
      },
      "source": [
        "train_data=create_train_data()"
      ],
      "execution_count": 16,
      "outputs": [
        {
          "output_type": "stream",
          "text": [
            "100%|██████████| 25000/25000 [00:21<00:00, 1157.33it/s]\n"
          ],
          "name": "stderr"
        }
      ]
    },
    {
      "cell_type": "code",
      "metadata": {
        "id": "qRfl38dGN-ZH",
        "colab_type": "code",
        "colab": {}
      },
      "source": [
        "import tflearn\n",
        "from tflearn.layers.conv import conv_2d,max_pool_2d\n",
        "from tflearn.layers.core import input_data,dropout,fully_connected\n",
        "from tflearn.layers.estimator import regression"
      ],
      "execution_count": 0,
      "outputs": []
    },
    {
      "cell_type": "code",
      "metadata": {
        "id": "F21vO7rzPs0N",
        "colab_type": "code",
        "colab": {
          "base_uri": "https://localhost:8080/",
          "height": 241
        },
        "outputId": "df0d7747-847c-4794-f640-ae75663e958c"
      },
      "source": [
        "convnet=input_data(shape=[None,IMG_SIZE, IMG_SIZE,1],name='input')\n",
        "convnet=conv_2d(convnet,32,5,activation='relu')\n",
        "convnet=max_pool_2d(convnet,5)\n",
        "convnet=conv_2d(convnet,64,5,activation='relu')\n",
        "convnet=max_pool_2d(convnet,5)\n",
        "convnet=fully_connected(convnet,1024,activation='relu')\n",
        "convnet=dropout(convnet,0.8)\n",
        "convnet=fully_connected(convnet,2,activation='softmax')\n",
        "convnet=regression(convnet,optimizer='adam',learning_rate=LEARNING_RATE,loss='categorical_crossentropy',name='targets')\n",
        "model=tflearn.DNN(convnet,tensorboard_dir='log')\n"
      ],
      "execution_count": 18,
      "outputs": [
        {
          "output_type": "stream",
          "text": [
            "WARNING:tensorflow:From /usr/local/lib/python3.6/dist-packages/tflearn/initializations.py:119: UniformUnitScaling.__init__ (from tensorflow.python.ops.init_ops) is deprecated and will be removed in a future version.\n",
            "Instructions for updating:\n",
            "Use tf.initializers.variance_scaling instead with distribution=uniform to get equivalent behavior.\n",
            "WARNING:tensorflow:From /usr/local/lib/python3.6/dist-packages/tflearn/layers/core.py:239: calling dropout (from tensorflow.python.ops.nn_ops) with keep_prob is deprecated and will be removed in a future version.\n",
            "Instructions for updating:\n",
            "Please use `rate` instead of `keep_prob`. Rate should be set to `rate = 1 - keep_prob`.\n",
            "WARNING:tensorflow:From /usr/local/lib/python3.6/dist-packages/tflearn/objectives.py:66: calling reduce_sum_v1 (from tensorflow.python.ops.math_ops) with keep_dims is deprecated and will be removed in a future version.\n",
            "Instructions for updating:\n",
            "keep_dims is deprecated, use keepdims instead\n",
            "WARNING:tensorflow:From /usr/local/lib/python3.6/dist-packages/tensorflow/python/ops/math_ops.py:3066: to_int32 (from tensorflow.python.ops.math_ops) is deprecated and will be removed in a future version.\n",
            "Instructions for updating:\n",
            "Use tf.cast instead.\n"
          ],
          "name": "stdout"
        }
      ]
    },
    {
      "cell_type": "code",
      "metadata": {
        "id": "nUxvRSCAwjOg",
        "colab_type": "code",
        "colab": {}
      },
      "source": [
        "import tensorflow as tf\n",
        "tf.reset_default_graph()\n",
        "convnet=input_data(shape=[None,IMG_SIZE,IMG_SIZE,1],name='input')\n",
        "convnet=conv_2d(convnet,32,5,activation='relu')\n",
        "convnet=max_pool_2d(convnet,5)\n",
        "convnet=conv_2d(convnet,64,5,activation='relu')\n",
        "convnet=max_pool_2d(convnet,5)\n",
        "convnet=conv_2d(convnet,128,5,activation='relu')\n",
        "convnet=max_pool_2d(convnet,5)\n",
        "convnet=conv_2d(convnet,64,5,activation='relu')\n",
        "convnet=max_pool_2d(convnet,5)\n",
        "convnet=conv_2d(convnet,32,5,activation='relu')\n",
        "convnet=max_pool_2d(convnet,5)\n",
        "convnet=fully_connected(convnet,1024,activation='relu')\n",
        "convnet=dropout(convnet,0.8)\n",
        "convnet=fully_connected(convnet,2,activation='softmax')\n",
        "convnet=regression(convnet,optimizer='adam',learning_rate=LEARNING_RATE,loss='categorical_crossentropy',name='targets')\n",
        "model=tflearn.DNN(convnet,tensorboard_dir='log')\n"
      ],
      "execution_count": 0,
      "outputs": []
    },
    {
      "cell_type": "code",
      "metadata": {
        "id": "3DEMQJjixzIq",
        "colab_type": "code",
        "colab": {}
      },
      "source": [
        "if os.path.exists('{}.meta'.format(MODEL_NAME)):\n",
        "   model.load(MODEL_NAME)\n",
        "   print('model loaded!')\n",
        "  "
      ],
      "execution_count": 0,
      "outputs": []
    },
    {
      "cell_type": "code",
      "metadata": {
        "id": "gJK68R0CyoeN",
        "colab_type": "code",
        "colab": {}
      },
      "source": [
        "train=train_data[:-500]\n",
        "test=train_data[:-500]\n"
      ],
      "execution_count": 0,
      "outputs": []
    },
    {
      "cell_type": "code",
      "metadata": {
        "id": "MVC4e57Uyz30",
        "colab_type": "code",
        "colab": {}
      },
      "source": [
        "X=np.array([i[0] for i in train]).reshape(-1,IMG_SIZE,IMG_SIZE,1)\n",
        "Y=[i[1] for i in train]\n",
        "test_x=np.array([i[0] for i in test]).reshape(-1,IMG_SIZE,IMG_SIZE,1)\n",
        "test_y=[i[1] for i in test]"
      ],
      "execution_count": 0,
      "outputs": []
    },
    {
      "cell_type": "code",
      "metadata": {
        "id": "mwxPYUbyznTR",
        "colab_type": "code",
        "colab": {
          "base_uri": "https://localhost:8080/",
          "height": 102
        },
        "outputId": "ccae21bf-6850-423c-ef1b-48b35a8938dc"
      },
      "source": [
        "model.fit({'input':X},{'targets':Y},n_epoch=10,validation_set=({'input':test_x},{'targets':test_y}),snapshot_step=500,show_metric=True,run_id=MODEL_NAME)"
      ],
      "execution_count": 24,
      "outputs": [
        {
          "output_type": "stream",
          "text": [
            "Training Step: 3829  | total loss: \u001b[1m\u001b[32m0.31964\u001b[0m\u001b[0m | time: 5.372s\n",
            "| Adam | epoch: 010 | loss: 0.31964 - acc: 0.8621 -- iter: 24448/24500\n",
            "Training Step: 3830  | total loss: \u001b[1m\u001b[32m0.31100\u001b[0m\u001b[0m | time: 7.152s\n",
            "| Adam | epoch: 010 | loss: 0.31100 - acc: 0.8650 | val_loss: 0.31390 - val_acc: 0.8550 -- iter: 24500/24500\n",
            "--\n"
          ],
          "name": "stdout"
        }
      ]
    },
    {
      "cell_type": "code",
      "metadata": {
        "id": "Nwv5z_KA0R99",
        "colab_type": "code",
        "colab": {
          "base_uri": "https://localhost:8080/",
          "height": 102
        },
        "outputId": "fd7766d9-192c-41cc-e6d4-4cd6a6f7d88e"
      },
      "source": [
        "model.fit({'input':X},{'targets':Y},n_epoch=10,validation_set=({'input':test_x},{'targets':test_y}),snapshot_step=500,show_metric=True,run_id=MODEL_NAME)"
      ],
      "execution_count": 25,
      "outputs": [
        {
          "output_type": "stream",
          "text": [
            "Training Step: 7659  | total loss: \u001b[1m\u001b[32m0.20954\u001b[0m\u001b[0m | time: 5.236s\n",
            "| Adam | epoch: 020 | loss: 0.20954 - acc: 0.9173 -- iter: 24448/24500\n",
            "Training Step: 7660  | total loss: \u001b[1m\u001b[32m0.20288\u001b[0m\u001b[0m | time: 7.000s\n",
            "| Adam | epoch: 020 | loss: 0.20288 - acc: 0.9208 | val_loss: 0.13774 - val_acc: 0.9475 -- iter: 24500/24500\n",
            "--\n"
          ],
          "name": "stdout"
        }
      ]
    },
    {
      "cell_type": "code",
      "metadata": {
        "id": "eZzbs8spuS42",
        "colab_type": "code",
        "colab": {}
      },
      "source": [
        ""
      ],
      "execution_count": 0,
      "outputs": []
    },
    {
      "cell_type": "code",
      "metadata": {
        "id": "cJNeJkl7uTSa",
        "colab_type": "code",
        "colab": {
          "base_uri": "https://localhost:8080/",
          "height": 34
        },
        "outputId": "1a680674-84e1-46bc-d6b2-ea6e18c36f96"
      },
      "source": [
        "testing_data=[]\n",
        "for img in tqdm(os.listdir(\"./test/\")):\n",
        "    path=os.path.join(\"./test\",img)\n",
        "    img_num=img.split('.')[0]\n",
        "    img=cv2.imread(path,cv2.IMREAD_GRAYSCALE)\n",
        "    img=cv2.resize(img,(IMG_SIZE,IMG_SIZE))\n",
        "    testing_data.append([np.array(img),img_num])\n"
      ],
      "execution_count": 26,
      "outputs": [
        {
          "output_type": "stream",
          "text": [
            "100%|██████████| 12500/12500 [00:10<00:00, 1146.78it/s]\n"
          ],
          "name": "stderr"
        }
      ]
    },
    {
      "cell_type": "code",
      "metadata": {
        "id": "1FpJp-REwkpJ",
        "colab_type": "code",
        "colab": {
          "base_uri": "https://localhost:8080/",
          "height": 264
        },
        "outputId": "362f67d1-cd99-46af-a449-017b05eedb6c"
      },
      "source": [
        "fig=plt.figure()\n",
        "for num,data in enumerate(testing_data[:10]):\n",
        "    img_num=data[1]\n",
        "    img_data=data[0]\n",
        "    y= fig.add_subplot(3,4,num+1)\n",
        "    orig=img_data\n",
        "    data=img_data.reshape(IMG_SIZE,IMG_SIZE,1)\n",
        "    model_out=model.predict([data])[0]\n",
        "    if np.argmax(model_out)==1:str_label='Dog'\n",
        "    else: str_label='cat'\n",
        "    y.imshow(orig,cmap='gray')\n",
        "    plt.title(str_label)\n",
        "    y.axes.get_xaxis().set_visible(False)\n",
        "    y.axes.get_yaxis().set_visible(False)\n",
        "plt.show()"
      ],
      "execution_count": 28,
      "outputs": [
        {
          "output_type": "display_data",
          "data": {
            "image/png": "[encoded data removed]",
            "text/plain": [
              "<Figure size 432x288 with 10 Axes>"
            ]
          },
          "metadata": {
            "tags": []
          }
        }
      ]
    }
  ]
}