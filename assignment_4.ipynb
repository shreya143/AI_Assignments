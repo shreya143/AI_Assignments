{
 "cells": [
  {
   "cell_type": "code",
   "execution_count": 12,
   "metadata": {},
   "outputs": [
    {
     "data": {
      "text/html": [
       "<div>\n",
       "<style scoped>\n",
       "    .dataframe tbody tr th:only-of-type {\n",
       "        vertical-align: middle;\n",
       "    }\n",
       "\n",
       "    .dataframe tbody tr th {\n",
       "        vertical-align: top;\n",
       "    }\n",
       "\n",
       "    .dataframe thead th {\n",
       "        text-align: right;\n",
       "    }\n",
       "</style>\n",
       "<table border=\"1\" class=\"dataframe\">\n",
       "  <thead>\n",
       "    <tr style=\"text-align: right;\">\n",
       "      <th></th>\n",
       "      <th>year</th>\n",
       "      <th>name</th>\n",
       "      <th>department</th>\n",
       "      <th>age</th>\n",
       "      <th>salary</th>\n",
       "    </tr>\n",
       "  </thead>\n",
       "  <tbody>\n",
       "    <tr>\n",
       "      <th>0</th>\n",
       "      <td>1990</td>\n",
       "      <td>alice</td>\n",
       "      <td>hr</td>\n",
       "      <td>25</td>\n",
       "      <td>45000</td>\n",
       "    </tr>\n",
       "    <tr>\n",
       "      <th>1</th>\n",
       "      <td>1990</td>\n",
       "      <td>bob</td>\n",
       "      <td>rd</td>\n",
       "      <td>35</td>\n",
       "      <td>50000</td>\n",
       "    </tr>\n",
       "    <tr>\n",
       "      <th>2</th>\n",
       "      <td>1990</td>\n",
       "      <td>charlie</td>\n",
       "      <td>admin</td>\n",
       "      <td>45</td>\n",
       "      <td>60000</td>\n",
       "    </tr>\n",
       "    <tr>\n",
       "      <th>3</th>\n",
       "      <td>1991</td>\n",
       "      <td>alice</td>\n",
       "      <td>hr</td>\n",
       "      <td>26</td>\n",
       "      <td>47000</td>\n",
       "    </tr>\n",
       "    <tr>\n",
       "      <th>4</th>\n",
       "      <td>1991</td>\n",
       "      <td>bob</td>\n",
       "      <td>rd</td>\n",
       "      <td>36</td>\n",
       "      <td>52000</td>\n",
       "    </tr>\n",
       "    <tr>\n",
       "      <th>5</th>\n",
       "      <td>1991</td>\n",
       "      <td>charlie</td>\n",
       "      <td>admin</td>\n",
       "      <td>46</td>\n",
       "      <td>62000</td>\n",
       "    </tr>\n",
       "    <tr>\n",
       "      <th>6</th>\n",
       "      <td>1992</td>\n",
       "      <td>alice</td>\n",
       "      <td>admin</td>\n",
       "      <td>27</td>\n",
       "      <td>49000</td>\n",
       "    </tr>\n",
       "    <tr>\n",
       "      <th>7</th>\n",
       "      <td>1992</td>\n",
       "      <td>bob</td>\n",
       "      <td>rd</td>\n",
       "      <td>37</td>\n",
       "      <td>55000</td>\n",
       "    </tr>\n",
       "    <tr>\n",
       "      <th>8</th>\n",
       "      <td>1992</td>\n",
       "      <td>charlie</td>\n",
       "      <td>hr</td>\n",
       "      <td>47</td>\n",
       "      <td>65000</td>\n",
       "    </tr>\n",
       "  </tbody>\n",
       "</table>\n",
       "</div>"
      ],
      "text/plain": [
       "   year     name department  age  salary\n",
       "0  1990    alice         hr   25   45000\n",
       "1  1990      bob         rd   35   50000\n",
       "2  1990  charlie      admin   45   60000\n",
       "3  1991    alice         hr   26   47000\n",
       "4  1991      bob         rd   36   52000\n",
       "5  1991  charlie      admin   46   62000\n",
       "6  1992    alice      admin   27   49000\n",
       "7  1992      bob         rd   37   55000\n",
       "8  1992  charlie         hr   47   65000"
      ]
     },
     "execution_count": 12,
     "metadata": {},
     "output_type": "execute_result"
    }
   ],
   "source": [
    "import pandas as pd\n",
    "items = {'year' : pd.Series(data = [1990,1990,1990,1991,1991,1991,1992,1992,1992]),'name':pd.Series(data=['alice','bob','charlie','alice','bob','charlie','alice','bob','charlie']),'department':pd.Series(data=['hr','rd','admin','hr','rd','admin','admin','rd','hr']),'age':pd.Series(data=[25,35,45,26,36,46,27,37,47]),'salary':pd.Series(data=[45000,50000,60000,47000,52000,62000,49000,55000,65000])\n",
    "\n",
    "}\n",
    "emp_data = pd.DataFrame(items,index=[0,1,2,3,4,5,6,7,8])\n",
    "emp_data\n"
   ]
  },
  {
   "cell_type": "code",
   "execution_count": 16,
   "metadata": {},
   "outputs": [
    {
     "data": {
      "text/plain": [
       "year\n",
       "1990    155000\n",
       "1991    161000\n",
       "1992    169000\n",
       "Name: salary, dtype: int64"
      ]
     },
     "execution_count": 16,
     "metadata": {},
     "output_type": "execute_result"
    }
   ],
   "source": [
    "emp_data.groupby(['year'])['salary'].sum()"
   ]
  },
  {
   "cell_type": "code",
   "execution_count": 17,
   "metadata": {},
   "outputs": [
    {
     "data": {
      "text/plain": [
       "name\n",
       "alice      141000\n",
       "bob        157000\n",
       "charlie    187000\n",
       "Name: salary, dtype: int64"
      ]
     },
     "execution_count": 17,
     "metadata": {},
     "output_type": "execute_result"
    }
   ],
   "source": [
    "emp_data.groupby(['name'])['salary'].sum()"
   ]
  },
  {
   "cell_type": "code",
   "execution_count": 18,
   "metadata": {},
   "outputs": [
    {
     "data": {
      "text/plain": [
       "year  department\n",
       "1990  admin         60000\n",
       "      hr            45000\n",
       "      rd            50000\n",
       "1991  admin         62000\n",
       "      hr            47000\n",
       "      rd            52000\n",
       "1992  admin         49000\n",
       "      hr            65000\n",
       "      rd            55000\n",
       "Name: salary, dtype: int64"
      ]
     },
     "execution_count": 18,
     "metadata": {},
     "output_type": "execute_result"
    }
   ],
   "source": [
    "emp_data.groupby(['year', 'department'])['salary'].sum()"
   ]
  },
  {
   "cell_type": "code",
   "execution_count": null,
   "metadata": {},
   "outputs": [],
   "source": []
  }
 ],
 "metadata": {
  "kernelspec": {
   "display_name": "Python 3",
   "language": "python",
   "name": "python3"
  },
  "language_info": {
   "codemirror_mode": {
    "name": "ipython",
    "version": 3
   },
   "file_extension": ".py",
   "mimetype": "text/x-python",
   "name": "python",
   "nbconvert_exporter": "python",
   "pygments_lexer": "ipython3",
   "version": "3.7.3"
  }
 },
 "nbformat": 4,
 "nbformat_minor": 2
}
