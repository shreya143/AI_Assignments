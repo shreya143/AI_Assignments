{
 "cells": [
  {
   "cell_type": "code",
   "execution_count": 3,
   "metadata": {},
   "outputs": [
    {
     "name": "stdout",
     "output_type": "stream",
     "text": [
      "low\n",
      "low\n",
      "high\n",
      "high\n",
      "correct\n"
     ]
    }
   ],
   "source": [
    "answer=4\n",
    "guess=[2,3,5,6,4]\n",
    "for i in guess:\n",
    "   if i<answer:\n",
    "    print('low')\n",
    "   elif i>answer:\n",
    "    print('high')\n",
    "   else:\n",
    "    print('correct')\n",
    "    "
   ]
  },
  {
   "cell_type": "code",
   "execution_count": 12,
   "metadata": {},
   "outputs": [
    {
     "name": "stdout",
     "output_type": "stream",
     "text": [
      "enter the start no:1\n",
      "enter the ending no:30\n",
      "5\n",
      "10\n",
      "15\n",
      "20\n",
      "25\n",
      "30\n"
     ]
    }
   ],
   "source": [
    "i=int(input('enter the start no:'))\n",
    "j=int(input('enter the ending no:'))\n",
    "for k in range(i,j+1):\n",
    "    if(k%5==0):\n",
    "     print(k)"
   ]
  },
  {
   "cell_type": "code",
   "execution_count": null,
   "metadata": {},
   "outputs": [],
   "source": []
  }
 ],
 "metadata": {
  "kernelspec": {
   "display_name": "Python 3",
   "language": "python",
   "name": "python3"
  },
  "language_info": {
   "codemirror_mode": {
    "name": "ipython",
    "version": 3
   },
   "file_extension": ".py",
   "mimetype": "text/x-python",
   "name": "python",
   "nbconvert_exporter": "python",
   "pygments_lexer": "ipython3",
   "version": "3.7.0"
  }
 },
 "nbformat": 4,
 "nbformat_minor": 2
}
